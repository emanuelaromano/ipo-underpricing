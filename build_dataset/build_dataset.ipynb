{
 "cells": [
  {
   "cell_type": "code",
   "execution_count": 113,
   "metadata": {},
   "outputs": [],
   "source": [
    "import pandas as pd\n",
    "import numpy as np\n",
    "import seaborn as sns\n",
    "import matplotlib.pyplot as plt\n",
    "import matplotlib.dates as mdates\n",
    "import matplotlib.ticker as ticker\n",
    "import matplotlib.dates as mdates\n",
    "import os"
   ]
  },
  {
   "cell_type": "code",
   "execution_count": 114,
   "metadata": {},
   "outputs": [],
   "source": [
    "os.makedirs('./output_csv', exist_ok=True)\n",
    "os.makedirs('./input_csv', exist_ok=True)"
   ]
  },
  {
   "cell_type": "code",
   "execution_count": 115,
   "metadata": {},
   "outputs": [],
   "source": [
    "df_bloomberg = pd.DataFrame()\n",
    "\n",
    "for year in range(2000, 2026):\n",
    "    try:\n",
    "        df_year = pd.read_csv(f\"./input_csv/bloomberg_raw/{year}.csv\")\n",
    "        df_bloomberg = pd.concat([df_bloomberg, df_year])\n",
    "    except FileNotFoundError:\n",
    "        continue"
   ]
  },
  {
   "cell_type": "code",
   "execution_count": 116,
   "metadata": {},
   "outputs": [],
   "source": [
    "df_bloomberg['Filing Term Price Range'] = df_bloomberg['Filing Term Price Range'].str.replace('\\n', '').str.strip()\n",
    "df_bloomberg['Trade Date (US)'] = pd.to_datetime(df_bloomberg['Trade Date (US)'], format='%m/%d/%y', errors='coerce')\n",
    "df_bloomberg['Trade Date (US) FoM'] = df_bloomberg['Trade Date (US)'].dt.to_period('M').dt.to_timestamp()\n",
    "df_bloomberg = df_bloomberg.dropna(thresh=int(df_bloomberg.shape[1] * 0.8))"
   ]
  },
  {
   "cell_type": "code",
   "execution_count": 117,
   "metadata": {},
   "outputs": [],
   "source": [
    "df_dff = pd.read_csv('./input_csv/DFF.csv')\n",
    "df_dff.rename(columns={'observation_date': 'Trade Date (US) FoM'}, inplace=True)\n",
    "df_dff['Trade Date (US) FoM'] = pd.to_datetime(df_dff['Trade Date (US) FoM'], errors='coerce')\n",
    "\n",
    "\n",
    "df_cpi = pd.read_csv('./input_csv/CPI.csv')\n",
    "df_cpi.rename(columns={'observation_date': 'Trade Date (US) FoM'}, inplace=True)\n",
    "df_cpi['Trade Date (US) FoM'] = pd.to_datetime(df_cpi['Trade Date (US) FoM'], errors='coerce')\n",
    "\n",
    "\n",
    "df_csent = pd.read_csv('./input_csv/UMCSENT.csv')\n",
    "df_csent.rename(columns={'observation_date': 'Trade Date (US) FoM'}, inplace=True)\n",
    "df_csent['Trade Date (US) FoM'] = pd.to_datetime(df_csent['Trade Date (US) FoM'], errors='coerce')\n",
    "\n",
    "\n",
    "df_unrate = pd.read_csv('./input_csv/UNRATE.csv')\n",
    "df_unrate.rename(columns={'observation_date': 'Trade Date (US) FoM'}, inplace=True)\n",
    "df_unrate['Trade Date (US) FoM'] = pd.to_datetime(df_unrate['Trade Date (US) FoM'], errors='coerce')\n"
   ]
  },
  {
   "cell_type": "code",
   "execution_count": 118,
   "metadata": {},
   "outputs": [],
   "source": [
    "df_bloomberg = (df_bloomberg.merge(df_dff, \n",
    "                                  on='Trade Date (US) FoM', \n",
    "                                  how='left')\n",
    "                            .merge(df_cpi, \n",
    "                                  on='Trade Date (US) FoM', \n",
    "                                  how='left')\n",
    "                            .merge(df_csent, \n",
    "                                  on='Trade Date (US) FoM', \n",
    "                                  how='left')\n",
    "                            .merge(df_unrate, \n",
    "                                  on='Trade Date (US) FoM', \n",
    "                                  how='left'))"
   ]
  },
  {
   "cell_type": "code",
   "execution_count": 119,
   "metadata": {},
   "outputs": [],
   "source": [
    "df_bloomberg.rename(columns={'CPALTT01USM657N': 'CPI',\n",
    "                              'DFF': 'Fed Rate',\n",
    "                              'UMCSENT': 'Consumer Confidence',\n",
    "                              'UNRATE': 'Unemployment Rate'\n",
    "                             }, inplace=True)"
   ]
  },
  {
   "cell_type": "code",
   "execution_count": 120,
   "metadata": {},
   "outputs": [],
   "source": [
    "df_bloomberg.drop(columns=['Trade Date (US) FoM'], inplace=True)"
   ]
  },
  {
   "cell_type": "code",
   "execution_count": 121,
   "metadata": {},
   "outputs": [],
   "source": [
    "df_bloomberg.to_csv('./output_csv/bloomberg_data.csv', index=False)\n"
   ]
  }
 ],
 "metadata": {
  "kernelspec": {
   "display_name": "venv",
   "language": "python",
   "name": "python3"
  },
  "language_info": {
   "codemirror_mode": {
    "name": "ipython",
    "version": 3
   },
   "file_extension": ".py",
   "mimetype": "text/x-python",
   "name": "python",
   "nbconvert_exporter": "python",
   "pygments_lexer": "ipython3",
   "version": "3.11.5"
  }
 },
 "nbformat": 4,
 "nbformat_minor": 2
}
