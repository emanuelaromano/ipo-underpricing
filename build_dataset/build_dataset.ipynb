{
 "cells": [
  {
   "cell_type": "code",
   "execution_count": 1,
   "metadata": {},
   "outputs": [],
   "source": [
    "import pandas as pd\n",
    "import numpy as np\n",
    "import seaborn as sns\n",
    "import matplotlib.pyplot as plt\n",
    "import matplotlib.dates as mdates\n",
    "import matplotlib.ticker as ticker\n",
    "import matplotlib.dates as mdates\n",
    "import os"
   ]
  },
  {
   "cell_type": "code",
   "execution_count": 2,
   "metadata": {},
   "outputs": [],
   "source": [
    "os.makedirs('./output_csv', exist_ok=True)\n",
    "os.makedirs('./input_csv', exist_ok=True)"
   ]
  },
  {
   "cell_type": "code",
   "execution_count": 13,
   "metadata": {},
   "outputs": [],
   "source": [
    "df_bloomberg = pd.read_csv('./input_csv/bloomberg_data_raw.csv', index_col=0)"
   ]
  },
  {
   "cell_type": "code",
   "execution_count": 14,
   "metadata": {},
   "outputs": [],
   "source": [
    "df_bloomberg['Trade Date (US)'] = pd.to_datetime(df_bloomberg['Trade Date (US)'], errors='coerce')\n",
    "df_bloomberg['Trade Date (US) FoM'] = df_bloomberg['Trade Date (US)'].dt.to_period('M').dt.to_timestamp()"
   ]
  },
  {
   "cell_type": "code",
   "execution_count": 15,
   "metadata": {},
   "outputs": [],
   "source": [
    "df_dff = pd.read_csv('./input_csv/DFF.csv')\n",
    "df_dff.rename(columns={'observation_date': 'Trade Date (US) FoM'}, inplace=True)\n",
    "df_dff['Trade Date (US) FoM'] = pd.to_datetime(df_dff['Trade Date (US) FoM'], errors='coerce')\n",
    "\n",
    "\n",
    "df_cpi = pd.read_csv('./input_csv/CPI.csv')\n",
    "df_cpi.rename(columns={'observation_date': 'Trade Date (US) FoM'}, inplace=True)\n",
    "df_cpi['Trade Date (US) FoM'] = pd.to_datetime(df_cpi['Trade Date (US) FoM'], errors='coerce')\n",
    "\n",
    "\n",
    "df_csent = pd.read_csv('./input_csv/UMCSENT.csv')\n",
    "df_csent.rename(columns={'observation_date': 'Trade Date (US) FoM'}, inplace=True)\n",
    "df_csent['Trade Date (US) FoM'] = pd.to_datetime(df_csent['Trade Date (US) FoM'], errors='coerce')\n",
    "\n",
    "\n",
    "df_unrate = pd.read_csv('./input_csv/UNRATE.csv')\n",
    "df_unrate.rename(columns={'observation_date': 'Trade Date (US) FoM'}, inplace=True)\n",
    "df_unrate['Trade Date (US) FoM'] = pd.to_datetime(df_unrate['Trade Date (US) FoM'], errors='coerce')\n"
   ]
  },
  {
   "cell_type": "code",
   "execution_count": 16,
   "metadata": {},
   "outputs": [],
   "source": [
    "df_bloomberg = (df_bloomberg.merge(df_dff, \n",
    "                                  on='Trade Date (US) FoM', \n",
    "                                  how='left')\n",
    "                            .merge(df_cpi, \n",
    "                                  on='Trade Date (US) FoM', \n",
    "                                  how='left')\n",
    "                            .merge(df_csent, \n",
    "                                  on='Trade Date (US) FoM', \n",
    "                                  how='left')\n",
    "                            .merge(df_unrate, \n",
    "                                  on='Trade Date (US) FoM', \n",
    "                                  how='left'))"
   ]
  },
  {
   "cell_type": "code",
   "execution_count": 17,
   "metadata": {},
   "outputs": [],
   "source": [
    "df_bloomberg.rename(columns={'CPALTT01USM657N': 'CPI',\n",
    "                              'DFF': 'Fed Rate',\n",
    "                              'UMCSENT': 'Consumer Confidence',\n",
    "                              'UNRATE': 'Unemployment Rate'\n",
    "                             }, inplace=True)"
   ]
  },
  {
   "cell_type": "code",
   "execution_count": 18,
   "metadata": {},
   "outputs": [],
   "source": [
    "df_bloomberg.drop(columns=['Trade Date (US) FoM'], inplace=True)"
   ]
  },
  {
   "cell_type": "code",
   "execution_count": 19,
   "metadata": {},
   "outputs": [],
   "source": [
    "df_bloomberg.to_csv('./output_csv/bloomberg_data.csv', index=False)\n"
   ]
  }
 ],
 "metadata": {
  "kernelspec": {
   "display_name": "venv",
   "language": "python",
   "name": "python3"
  },
  "language_info": {
   "codemirror_mode": {
    "name": "ipython",
    "version": 3
   },
   "file_extension": ".py",
   "mimetype": "text/x-python",
   "name": "python",
   "nbconvert_exporter": "python",
   "pygments_lexer": "ipython3",
   "version": "3.11.5"
  }
 },
 "nbformat": 4,
 "nbformat_minor": 2
}
