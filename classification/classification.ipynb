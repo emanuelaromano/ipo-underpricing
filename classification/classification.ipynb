{
 "cells": [
  {
   "cell_type": "code",
   "execution_count": 1,
   "id": "e0852c7e",
   "metadata": {},
   "outputs": [],
   "source": [
    "import numpy as np\n",
    "import pandas as pd\n",
    "import matplotlib.pyplot as plt\n",
    "import seaborn as sns\n",
    "import time\n",
    "from sklearn.ensemble import RandomForestClassifier\n",
    "from sklearn.model_selection import train_test_split\n",
    "from sklearn.metrics import accuracy_score, brier_score_loss\n",
    "from sklearn.metrics import classification_report, f1_score\n",
    "from sklearn.metrics import precision_recall_fscore_support\n",
    "from sklearn.model_selection import GridSearchCV\n",
    "from sklearn.model_selection import GridSearchCV\n",
    "from sklearn.svm import SVC\n",
    "from sklearn.metrics import accuracy_score, f1_score"
   ]
  },
  {
   "cell_type": "code",
   "execution_count": 3,
   "id": "37460ef2",
   "metadata": {},
   "outputs": [],
   "source": [
    "df_dev = pd.read_csv('Final_Output_Class_dev.csv')\n",
    "df_test = pd.read_csv('Final_Output_Class_test.csv')\n",
    "#SPlit the label\n",
    "label_dev = df_dev['Underpriced']\n",
    "label_test = df_test['Underpriced']\n",
    "#Drop the label column\n",
    "df_dev = df_dev.drop(columns='Underpriced')\n",
    "df_test = df_test.drop(columns='Underpriced')"
   ]
  },
  {
   "cell_type": "code",
   "execution_count": 4,
   "id": "8b5ca010",
   "metadata": {},
   "outputs": [],
   "source": [
    "x_train,x_dev,y_train,y_dev = train_test_split(df_dev,label_dev,test_size=0.2,random_state=42)"
   ]
  },
  {
   "cell_type": "code",
   "execution_count": null,
   "id": "41ddef1a",
   "metadata": {},
   "outputs": [
    {
     "name": "stdout",
     "output_type": "stream",
     "text": [
      "Fitting 5 folds for each of 1728 candidates, totalling 8640 fits\n",
      "✅ Best F1 Score on Dev Set: 0.8982\n",
      "🏆 Best Hyperparameters:\n",
      "{'max_depth': None, 'max_features': 'log2', 'min_samples_leaf': 1, 'min_samples_split': 2, 'n_estimators': 400}\n"
     ]
    }
   ],
   "source": [
    "rf = RandomForestClassifier(random_state=42)\n",
    "#Use grid search for the optimal hyperparameter\n",
    "param_grid = {\n",
    "    'n_estimators': [100, 200, 300, 400, 500, 600],\n",
    "    'max_depth': [None, 10, 20, 30, 40, 50],\n",
    "    'min_samples_split': [2, 5, 10, 15],\n",
    "    'min_samples_leaf': [1, 2, 4, 6],\n",
    "    'max_features': ['sqrt', 'log2', None]\n",
    "}\n",
    "\n",
    "grid_search = GridSearchCV(\n",
    "    estimator=rf,\n",
    "    param_grid=param_grid,\n",
    "    scoring='f1',\n",
    "    cv=5,\n",
    "    n_jobs=-1,\n",
    "    verbose=2\n",
    ")\n",
    "grid_search.fit(x_train,y_train)\n",
    "\n",
    "best_rf = grid_search.best_estimator_\n",
    "y_dev_pred = best_rf.predict(x_dev)\n",
    "best_f1 = f1_score(y_dev, y_dev_pred)\n",
    "\n",
    "print(f\"Best F1 Score on Dev Set: {best_f1:.4f}\")\n",
    "print(\"Best Hyperparameters:\")\n",
    "print(grid_search.best_params_)"
   ]
  },
  {
   "cell_type": "code",
   "execution_count": 24,
   "id": "bfb09d14",
   "metadata": {},
   "outputs": [
    {
     "name": "stdout",
     "output_type": "stream",
     "text": [
      "Test Accuracy :0.8077889447236181\n",
      "Test F1 Score :0.2233502538071066\n"
     ]
    }
   ],
   "source": [
    "test_pred= best_rf.predict(df_test)\n",
    "#Compute Training Accuracy\n",
    "test_accuracy = best_rf.score(df_test,label_test)\n",
    "#Compute F1 score\n",
    "test_f1 = f1_score(label_test, test_pred)\n",
    "\n",
    "print(f'Test Accuracy :{test_accuracy}')\n",
    "print(f'Test F1 Score :{test_f1}')"
   ]
  },
  {
   "cell_type": "code",
   "execution_count": 8,
   "id": "b999a212",
   "metadata": {},
   "outputs": [
    {
     "name": "stdout",
     "output_type": "stream",
     "text": [
      "Fitting 5 folds for each of 27 candidates, totalling 135 fits\n",
      "Best SVM Params: {'C': 10, 'gamma': 0.01, 'kernel': 'poly'}\n",
      "Best SVM F1 Score on Dev Set: 0.8415492957746479\n"
     ]
    }
   ],
   "source": [
    "param_grid = {\n",
    "    'C': [0.1, 1, 10],\n",
    "    'gamma': ['scale', 0.01, 0.001],\n",
    "    'kernel': ['rbf', 'poly', 'linear']\n",
    "}\n",
    "\n",
    "grid_search = GridSearchCV(SVC(), param_grid, cv=5, scoring='f1', verbose=2, n_jobs=-1)\n",
    "grid_search.fit(x_train, y_train)\n",
    "\n",
    "best_model = grid_search.best_estimator_\n",
    "\n",
    "y_dev_pred = best_model.predict(x_dev)\n",
    "f1 = f1_score(y_dev, y_dev_pred)\n",
    "\n",
    "print(\"Best SVM Params:\", grid_search.best_params_)\n",
    "print(\"Best SVM F1 Score on Dev Set:\", f1)"
   ]
  },
  {
   "cell_type": "code",
   "execution_count": 9,
   "id": "90dddb02",
   "metadata": {},
   "outputs": [
    {
     "name": "stdout",
     "output_type": "stream",
     "text": [
      "Test Accuracy :0.6695979899497487\n",
      "Test F1 Score :0.3538083538083538\n"
     ]
    }
   ],
   "source": [
    "test_pred= best_model.predict(df_test)\n",
    "#Compute Training Accuracy\n",
    "test_accuracy = best_model.score(df_test,label_test)\n",
    "#Compute F1 score\n",
    "test_f1 = f1_score(label_test, test_pred)\n",
    "\n",
    "print(f'Test Accuracy :{test_accuracy}')\n",
    "print(f'Test F1 Score :{test_f1}')\n",
    "\n"
   ]
  }
 ],
 "metadata": {
  "kernelspec": {
   "display_name": "Python 3",
   "language": "python",
   "name": "python3"
  },
  "language_info": {
   "codemirror_mode": {
    "name": "ipython",
    "version": 3
   },
   "file_extension": ".py",
   "mimetype": "text/x-python",
   "name": "python",
   "nbconvert_exporter": "python",
   "pygments_lexer": "ipython3",
   "version": "3.11.9"
  }
 },
 "nbformat": 4,
 "nbformat_minor": 5
}
