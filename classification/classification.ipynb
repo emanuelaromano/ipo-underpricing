{
 "cells": [
  {
   "cell_type": "code",
   "execution_count": 2,
   "id": "e0852c7e",
   "metadata": {},
   "outputs": [],
   "source": [
    "import numpy as np\n",
    "import pandas as pd\n",
    "import matplotlib.pyplot as plt\n",
    "import seaborn as sns\n",
    "import time\n",
    "from sklearn.ensemble import RandomForestClassifier\n",
    "from sklearn.model_selection import train_test_split\n",
    "from sklearn.metrics import accuracy_score, brier_score_loss\n",
    "from sklearn.metrics import classification_report, f1_score\n",
    "from sklearn.metrics import precision_recall_fscore_support\n",
    "from sklearn.model_selection import GridSearchCV,StratifiedKFold,RandomizedSearchCV\n",
    "from sklearn.svm import SVC\n",
    "from sklearn.metrics import accuracy_score, f1_score\n",
    "from sklearn.pipeline import Pipeline\n",
    "from sklearn.preprocessing import StandardScaler\n",
    "from scipy.stats import randint\n",
    "from sklearn.feature_selection import SelectKBest, f_classif\n"
   ]
  },
  {
   "cell_type": "code",
   "execution_count": 10,
   "id": "37460ef2",
   "metadata": {},
   "outputs": [],
   "source": [
    "df_dev = pd.read_csv('Final_Output_Class_dev_under.csv')\n",
    "df_test = pd.read_csv('Final_Output_Class_test.csv')\n",
    "#SPlit the label\n",
    "label_dev = df_dev['Underpriced']\n",
    "label_test = df_test['Underpriced']\n",
    "#Drop the label column\n",
    "df_dev = df_dev.drop(columns='Underpriced')\n",
    "df_test = df_test.drop(columns='Underpriced')"
   ]
  },
  {
   "cell_type": "code",
   "execution_count": 11,
   "id": "8b5ca010",
   "metadata": {},
   "outputs": [],
   "source": [
    "x_train,x_dev,y_train,y_dev = train_test_split(df_dev,label_dev,test_size=0.2,random_state=42)"
   ]
  },
  {
   "cell_type": "code",
   "execution_count": 12,
   "id": "41ddef1a",
   "metadata": {},
   "outputs": [
    {
     "name": "stdout",
     "output_type": "stream",
     "text": [
      "Fitting 5 folds for each of 16 candidates, totalling 80 fits\n",
      "Best F1 Score on Dev Set: 0.48514851485148514\n",
      "Best Hyperparameters:\n",
      "{'bootstrap': True, 'criterion': 'gini', 'max_depth': 15, 'max_features': 'sqrt', 'min_samples_leaf': 3, 'min_samples_split': 10, 'n_estimators': 200}\n"
     ]
    }
   ],
   "source": [
    "rf = RandomForestClassifier(random_state=42,class_weight=None)\n",
    "#Use grid search for the optimal hyperparameter\n",
    "param_grid = {\n",
    "    'n_estimators': [100, 200],\n",
    "    'max_depth': [10, 15],\n",
    "    'min_samples_split': [5, 10],\n",
    "    'min_samples_leaf': [3, 5],\n",
    "    'max_features': ['sqrt'],\n",
    "    'bootstrap': [True],\n",
    "    'criterion': ['gini']\n",
    "}\n",
    "\n",
    "grid_search = GridSearchCV(\n",
    "    estimator=rf,\n",
    "    param_grid=param_grid,\n",
    "    scoring='f1',\n",
    "    cv=StratifiedKFold(n_splits=5, shuffle=True, random_state=42),\n",
    "    n_jobs=-1,\n",
    "    verbose=2\n",
    ")\n",
    "\n",
    "grid_search.fit(x_train,y_train)\n",
    "\n",
    "best_rf = grid_search.best_estimator_\n",
    "y_dev_pred = best_rf.predict(x_dev)\n",
    "best_f1 = f1_score(y_dev, y_dev_pred)\n",
    "\n",
    "print(f\"Best F1 Score on Dev Set: {best_f1}\")\n",
    "print(\"Best Hyperparameters:\")\n",
    "print(grid_search.best_params_)"
   ]
  },
  {
   "cell_type": "code",
   "execution_count": 13,
   "id": "bfb09d14",
   "metadata": {},
   "outputs": [
    {
     "name": "stdout",
     "output_type": "stream",
     "text": [
      "Test Accuracy :0.7437185929648241\n",
      "Test F1 Score :0.41040462427745666\n"
     ]
    }
   ],
   "source": [
    "test_pred= best_rf.predict(df_test)\n",
    "#Compute Training Accuracy\n",
    "test_accuracy = best_rf.score(df_test,label_test)\n",
    "#Compute F1 score\n",
    "test_f1 = f1_score(label_test, test_pred)\n",
    "\n",
    "print(f'Test Accuracy :{test_accuracy}')\n",
    "print(f'Test F1 Score :{test_f1}')"
   ]
  },
  {
   "cell_type": "code",
   "execution_count": 108,
   "id": "b999a212",
   "metadata": {},
   "outputs": [
    {
     "name": "stdout",
     "output_type": "stream",
     "text": [
      "Fitting 5 folds for each of 27 candidates, totalling 135 fits\n",
      "Best SVM Params: {'C': 0.1, 'gamma': 'scale', 'kernel': 'linear'}\n",
      "Best SVM F1 Score on Dev Set: 0.5555555555555556\n"
     ]
    }
   ],
   "source": [
    "param_grid = {\n",
    "    'C': [0.1, 1, 10],\n",
    "    'gamma': ['scale', 0.01, 0.001],\n",
    "    'kernel': ['rbf', 'poly', 'linear']\n",
    "}\n",
    "\n",
    "grid_search = GridSearchCV(SVC(), param_grid, cv=5, scoring='f1', verbose=2, n_jobs=-1)\n",
    "grid_search.fit(x_train, y_train)\n",
    "\n",
    "best_model = grid_search.best_estimator_\n",
    "\n",
    "y_dev_pred = best_model.predict(x_dev)\n",
    "f1 = f1_score(y_dev, y_dev_pred)\n",
    "\n",
    "print(\"Best SVM Params:\", grid_search.best_params_)\n",
    "print(\"Best SVM F1 Score on Dev Set:\", f1)"
   ]
  },
  {
   "cell_type": "code",
   "execution_count": 109,
   "id": "90dddb02",
   "metadata": {},
   "outputs": [
    {
     "name": "stdout",
     "output_type": "stream",
     "text": [
      "Test Accuracy :0.6545226130653267\n",
      "Test F1 Score :0.3764172335600907\n"
     ]
    }
   ],
   "source": [
    "test_pred= best_model.predict(df_test)\n",
    "#Compute Training Accuracy\n",
    "test_accuracy = best_model.score(df_test,label_test)\n",
    "#Compute F1 score\n",
    "test_f1 = f1_score(label_test, test_pred)\n",
    "\n",
    "print(f'Test Accuracy :{test_accuracy}')\n",
    "print(f'Test F1 Score :{test_f1}')\n",
    "\n"
   ]
  },
  {
   "cell_type": "code",
   "execution_count": 3,
   "id": "1e32e7f6",
   "metadata": {},
   "outputs": [],
   "source": [
    "df_dev = pd.read_csv('Final_Output_Class_dev_tomek.csv')\n",
    "df_test = pd.read_csv('Final_Output_Class_test.csv')\n",
    "#SPlit the label\n",
    "label_dev = df_dev['Underpriced']\n",
    "label_test = df_test['Underpriced']\n",
    "#Drop the label column\n",
    "df_dev = df_dev.drop(columns='Underpriced')\n",
    "df_test = df_test.drop(columns='Underpriced')\n",
    "\n",
    "x_train,x_dev,y_train,y_dev = train_test_split(df_dev,label_dev,test_size=0.2,random_state=42)"
   ]
  },
  {
   "cell_type": "code",
   "execution_count": 4,
   "id": "6b1c97fa",
   "metadata": {},
   "outputs": [
    {
     "name": "stdout",
     "output_type": "stream",
     "text": [
      "Fitting 5 folds for each of 15360 candidates, totalling 76800 fits\n",
      "Best F1 Score on Dev Set: 0.8794788273615635\n",
      "Best Hyperparameters:\n",
      "{'bootstrap': False, 'class_weight': 'balanced', 'criterion': 'entropy', 'max_depth': None, 'max_features': 'log2', 'min_samples_leaf': 1, 'min_samples_split': 2, 'n_estimators': 300}\n"
     ]
    }
   ],
   "source": [
    "rf = RandomForestClassifier(random_state=42,class_weight=None)\n",
    "#Use grid search for the optimal hyperparameter\n",
    "param_grid = {\n",
    "    'n_estimators': [100, 200, 300, 500],\n",
    "    'max_depth': [None, 10, 15, 20, 30],\n",
    "    'min_samples_split': [2, 5, 10, 15],\n",
    "    'min_samples_leaf': [1, 2, 3, 5],\n",
    "    'max_features': ['sqrt', 'log2', 0.3, 0.5],\n",
    "    'bootstrap': [True, False],\n",
    "    'criterion': ['gini', 'entropy'],\n",
    "    'class_weight': [None, 'balanced', 'balanced_subsample']\n",
    "}\n",
    "\n",
    "grid_search = GridSearchCV(\n",
    "    estimator=rf,\n",
    "    param_grid=param_grid,\n",
    "    scoring='f1',\n",
    "    cv=StratifiedKFold(n_splits=5, shuffle=True, random_state=42),\n",
    "    n_jobs=-1,\n",
    "    verbose=2\n",
    ")\n",
    "\n",
    "grid_search.fit(x_train,y_train)\n",
    "\n",
    "best_rf = grid_search.best_estimator_\n",
    "y_dev_pred = best_rf.predict(x_dev)\n",
    "best_f1 = f1_score(y_dev, y_dev_pred)\n",
    "\n",
    "print(f\"Best F1 Score on Dev Set: {best_f1}\")\n",
    "print(\"Best Hyperparameters:\")\n",
    "print(grid_search.best_params_)"
   ]
  },
  {
   "cell_type": "code",
   "execution_count": 5,
   "id": "555cf577",
   "metadata": {},
   "outputs": [
    {
     "name": "stdout",
     "output_type": "stream",
     "text": [
      "Test Accuracy :0.7865311308767471\n",
      "Test F1 Score :0.13402061855670103\n"
     ]
    }
   ],
   "source": [
    "test_pred = best_rf.predict(df_test)\n",
    "#Compute Training Accuracy\n",
    "test_accuracy = best_rf.score(df_test,label_test)\n",
    "#Compute F1 score\n",
    "test_f1 = f1_score(label_test, test_pred)\n",
    "\n",
    "print(f'Test Accuracy :{test_accuracy}')\n",
    "print(f'Test F1 Score :{test_f1}')"
   ]
  }
 ],
 "metadata": {
  "kernelspec": {
   "display_name": "Python 3",
   "language": "python",
   "name": "python3"
  },
  "language_info": {
   "codemirror_mode": {
    "name": "ipython",
    "version": 3
   },
   "file_extension": ".py",
   "mimetype": "text/x-python",
   "name": "python",
   "nbconvert_exporter": "python",
   "pygments_lexer": "ipython3",
   "version": "3.11.9"
  }
 },
 "nbformat": 4,
 "nbformat_minor": 5
}
