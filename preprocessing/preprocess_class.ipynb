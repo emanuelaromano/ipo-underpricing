{
 "cells": [
  {
   "cell_type": "code",
   "execution_count": 1,
   "metadata": {},
   "outputs": [],
   "source": [
    "import pandas as pd\n",
    "import numpy as np\n",
    "import matplotlib.pyplot as plt\n",
    "import seaborn as sns\n",
    "from sklearn.preprocessing import StandardScaler, OneHotEncoder, OrdinalEncoder\n",
    "from imblearn.over_sampling import SMOTE\n",
    "from sklearn.compose import ColumnTransformer\n",
    "from sklearn.model_selection import train_test_split\n",
    "import os\n",
    "import warnings\n",
    "warnings.filterwarnings('ignore')\n"
   ]
  },
  {
   "cell_type": "code",
   "execution_count": 2,
   "metadata": {},
   "outputs": [],
   "source": [
    "def remove_file(filename):\n",
    "    try:\n",
    "        os.remove(filename)\n",
    "    except OSError as e:\n",
    "        print(f\"Error removing {filename}: {e}\")"
   ]
  },
  {
   "cell_type": "code",
   "execution_count": 3,
   "metadata": {},
   "outputs": [],
   "source": [
    "def convert_features(input_file):\n",
    "    \"\"\"\n",
    "    Convert the 'Trade Date (US)' column to separate columns for \n",
    "    month, day, and year, and drop the original 'Trade Date (US)' column.\n",
    "\n",
    "    Also, convert Offer To 1st Close to a binary classification (Underpriced\n",
    "    column) and drop original column.\n",
    "    \"\"\"\n",
    "    df = pd.read_csv(input_file)\n",
    "    df['Trade Date (US)'] = pd.to_datetime(df['Trade Date (US)'])\n",
    "    df['Trade Month'] = df['Trade Date (US)'].dt.month\n",
    "    df['Trade Day'] = df['Trade Date (US)'].dt.day\n",
    "    df['Trade Year'] = df['Trade Date (US)'].dt.year\n",
    "    df.drop(columns=['Trade Date (US)'], inplace=True)\n",
    "    df['Underpriced'] = df['Offer To 1st Close'].apply(lambda x: 1 if x < 0 else 0)\n",
    "    df.drop(columns=['Offer To 1st Close'], inplace=True)\n",
    "    return df\n",
    "\n",
    "df_convert_features = convert_features('bloomberg_data.csv')"
   ]
  },
  {
   "cell_type": "code",
   "execution_count": 4,
   "metadata": {},
   "outputs": [],
   "source": [
    "def drop_columns(columns,df):\n",
    "    \"\"\"\n",
    "    Drop the specified columns from the DataFrame.\n",
    "    \"\"\"\n",
    "    df = df.drop(columns=columns)\n",
    "    return df\n",
    "\n",
    "df_drop_columns = drop_columns(['Issuer Ticker',\n",
    "                                'Issuer Name',\n",
    "                                'Filing Term Price Range',\n",
    "                                'cusip',\n",
    "                                'Priced Range'],\n",
    "                                df_convert_features)"
   ]
  },
  {
   "cell_type": "code",
   "execution_count": 5,
   "metadata": {},
   "outputs": [],
   "source": [
    "def encoding(df):\n",
    "    \"\"\"\n",
    "    Split the DataFrame into development and testing sets, using stratified sampling. \n",
    "    \n",
    "    Fill missing values with the mode for categorical \n",
    "    columns and the mean for numerical columns.\n",
    "\n",
    "    Encode columns in the DataFrame: \n",
    "\n",
    "      - Categorical columns are encoded using OneHotEncoder.\n",
    "      - Numerical columns are scaled using StandardScaler.\n",
    "      - Ordinal columns are encoded using OrdinalEncoder.\n",
    "\n",
    "    Create df_dev and df_test using the transformed features.\n",
    "    \"\"\"\n",
    "\n",
    "    X = df.drop(columns=['Underpriced'])\n",
    "    y = df['Underpriced']\n",
    "\n",
    "    X_dev, X_test, y_dev, y_test = train_test_split(X, y, test_size=0.2, random_state=42, stratify=y)\n",
    "\n",
    "    if y_dev.isnull().any() or y_test.isnull().any():\n",
    "        mean = y_dev.mean()\n",
    "        y_dev = y_dev.fillna(mean)\n",
    "        y_test = y_test.fillna(mean)\n",
    "\n",
    "    for col in X_dev.columns:\n",
    "        if X_dev[col].dtype == 'object':\n",
    "            mode = X_dev[col].mode()[0]\n",
    "            X_dev[col] = X_dev[col].fillna(mode)\n",
    "            X_test[col] = X_test[col].fillna(mode)\n",
    "        else:\n",
    "            mean = X_dev[col].mean()\n",
    "            X_dev[col] = X_dev[col].fillna(mean)\n",
    "            X_test[col] = X_test[col].fillna(mean)\n",
    "\n",
    "\n",
    "    oe_columns = ['Trade Month', 'Trade Day', 'Trade Year'] \n",
    "    ohe_columns = ['Industry Sector', 'Industry Group', 'Industry Subgroup']\n",
    "    ss_columns = [col for col in X.select_dtypes(exclude=['object']).columns if col not in oe_columns]\n",
    "\n",
    "    oe = OrdinalEncoder()\n",
    "    ohe = OneHotEncoder(drop='first', sparse_output=False, handle_unknown='ignore')\n",
    "    ss = StandardScaler()\n",
    "\n",
    "    preprocess = ColumnTransformer(transformers=[\n",
    "        ('ohe', ohe, ohe_columns),\n",
    "        ('ss', ss, ss_columns),\n",
    "        ('oe', oe, oe_columns)\n",
    "    ], remainder='passthrough')\n",
    "\n",
    "    transformed_dev = preprocess.fit_transform(X_dev)\n",
    "    transformed_test = preprocess.transform(X_test)\n",
    "\n",
    "    features = preprocess.get_feature_names_out()\n",
    "\n",
    "    df_dev = pd.DataFrame(transformed_dev, columns=features)\n",
    "    df_test = pd.DataFrame(transformed_test, columns=features)\n",
    "\n",
    "    df_dev['Underpriced'] = y_dev.reset_index(drop=True)\n",
    "    df_test['Underpriced'] = y_test.reset_index(drop=True)\n",
    "\n",
    "    return df_dev, df_test\n",
    "\n",
    "df_dev_encoding, df_test_encoding = encoding(df_drop_columns)"
   ]
  },
  {
   "cell_type": "code",
   "execution_count": 6,
   "metadata": {},
   "outputs": [
    {
     "name": "stdout",
     "output_type": "stream",
     "text": [
      "Removed 29 correlated features.\n"
     ]
    }
   ],
   "source": [
    "def show_correlation(df_dev, df_test):\n",
    "    \"\"\"\n",
    "    Check correlation in the X_dev column and drop highly correlated features.\n",
    "    \"\"\"\n",
    "    X_dev = df_dev.drop(columns=['Underpriced'])\n",
    "    y_dev = df_dev['Underpriced']\n",
    "\n",
    "    X_test = df_test.drop(columns=['Underpriced'])\n",
    "    y_test = df_test['Underpriced']\n",
    "\n",
    "    corr_matrix = X_dev.corr().abs()\n",
    "    upper = corr_matrix.where(np.triu(np.ones(corr_matrix.shape), k=1).astype(bool))\n",
    "    to_drop = [column for column in upper.columns if any(upper[column] >= 0.9)]\n",
    "\n",
    "    X_reduced = X_dev.drop(columns=to_drop)\n",
    "    X_reduced_test = X_test.drop(columns=to_drop)\n",
    "\n",
    "    df_dev = pd.concat([X_reduced, y_dev.reset_index(drop=True)], axis=1)\n",
    "    df_test = pd.concat([X_reduced_test, y_test.reset_index(drop=True)], axis=1)\n",
    "\n",
    "    print(f\"Removed {len(to_drop)} correlated features.\")\n",
    "    df_test.to_csv('Final_Output_Class_test.csv', index=False)\n",
    "\n",
    "    return df_dev, df_test\n",
    "\n",
    "df_dev_correlation, df_test_correlation = show_correlation(df_dev_encoding, df_test_encoding)"
   ]
  },
  {
   "cell_type": "code",
   "execution_count": 7,
   "metadata": {},
   "outputs": [
    {
     "data": {
      "text/plain": [
       "Underpriced\n",
       "0    2570\n",
       "1     614\n",
       "Name: count, dtype: int64"
      ]
     },
     "metadata": {},
     "output_type": "display_data"
    },
    {
     "data": {
      "image/png": "[encoded data removed]",
      "text/plain": [
       "<Figure size 800x800 with 1 Axes>"
      ]
     },
     "metadata": {},
     "output_type": "display_data"
    }
   ],
   "source": [
    "\"\"\"\n",
    "Displaying pie plot to show target data imbalance.\n",
    "\"\"\"\n",
    "\n",
    "df = df_dev_correlation.copy()\n",
    "\n",
    "plt.figure(figsize=(8, 8))\n",
    "underpriced_counts = df['Underpriced'].value_counts()\n",
    "display(underpriced_counts)\n",
    "labels = ['Underpriced', 'Not Underpriced']\n",
    "colors = ['lightblue', '#212351']\n",
    "\n",
    "wedges, texts, autotexts = plt.pie(\n",
    "    underpriced_counts, labels=labels, colors=colors,\n",
    "    autopct='%1.1f%%', textprops={'color': 'black'}\n",
    ")\n",
    "\n",
    "for i, autotext in enumerate(autotexts):\n",
    "    if colors[i] == '#212351':\n",
    "        autotext.set_color('white')\n",
    "\n",
    "plt.title('Classification Task: Underpriced vs Not Underpriced (Before Applying SMOTE)')\n",
    "plt.show()\n"
   ]
  },
  {
   "cell_type": "code",
   "execution_count": 8,
   "metadata": {},
   "outputs": [
    {
     "name": "stdout",
     "output_type": "stream",
     "text": [
      "Class distribution (normalized):\n",
      "Underpriced\n",
      "0    0.807161\n",
      "1    0.192839\n",
      "Name: proportion, dtype: float64\n",
      "\n",
      "Class distribution:\n",
      "Underpriced\n",
      "0    2570\n",
      "1     614\n",
      "Name: count, dtype: int64\n",
      "\n",
      "The data is imbalanced. Applying SMOTE...\n",
      "The initial dataset had 3184 rows\n",
      "The resampled dataset has 5140 rows\n",
      "Resampled feature matrix shape: (5140, 387)\n"
     ]
    }
   ],
   "source": [
    "def checkimbalance(df, outfile):\n",
    "    \"\"\"\n",
    "    Checking imbalance in the target data. \n",
    "\n",
    "    If imbalance, resample using SMOTE.\n",
    "    \"\"\"\n",
    "    X_dev = df.drop(columns=['Underpriced'])\n",
    "    y_dev = df['Underpriced']\n",
    "\n",
    "    label_count_norm = df['Underpriced'].value_counts(normalize=True)\n",
    "    label_count = df['Underpriced'].value_counts()\n",
    "    print(f\"Class distribution (normalized):\\n{label_count_norm}\\n\")\n",
    "    print(f\"Class distribution:\\n{label_count}\\n\")\n",
    "\n",
    "\n",
    "    imbalance = abs(label_count_norm[0] - 0.5) > 0.1\n",
    "\n",
    "    if imbalance:\n",
    "        print('The data is imbalanced. Applying SMOTE...')\n",
    "        sampler = SMOTE(random_state=42)\n",
    "        X_resampled, y_resampled = sampler.fit_resample(X_dev, y_dev)\n",
    "        df_final = pd.concat([X_resampled, y_resampled], axis=1)\n",
    "        df_final.to_csv(outfile, index=False)\n",
    "        print(f'The initial dataset had {y_dev.shape[0]} rows')\n",
    "        print(f'The resampled dataset has {y_resampled.shape[0]} rows')\n",
    "        print(f'Resampled feature matrix shape: {X_resampled.shape}')\n",
    "        return df_final\n",
    "    else:\n",
    "        print('The data is balanced. No resampling applied.')\n",
    "        return df\n",
    "\n",
    "df_dev_resampled = checkimbalance(df_dev_correlation, 'Final_Output_Class_dev.csv')"
   ]
  },
  {
   "cell_type": "code",
   "execution_count": null,
   "metadata": {},
   "outputs": [],
   "source": []
  }
 ],
 "metadata": {
  "kernelspec": {
   "display_name": "Python 3",
   "language": "python",
   "name": "python3"
  },
  "language_info": {
   "codemirror_mode": {
    "name": "ipython",
    "version": 3
   },
   "file_extension": ".py",
   "mimetype": "text/x-python",
   "name": "python",
   "nbconvert_exporter": "python",
   "pygments_lexer": "ipython3",
   "version": "3.11.9"
  }
 },
 "nbformat": 4,
 "nbformat_minor": 2
}
