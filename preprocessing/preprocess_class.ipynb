{
 "cells": [
  {
   "cell_type": "code",
   "execution_count": 1,
   "metadata": {},
   "outputs": [],
   "source": [
    "import pandas as pd\n",
    "import numpy as np\n",
    "import matplotlib.pyplot as plt\n",
    "import seaborn as sns\n",
    "from sklearn.preprocessing import StandardScaler, OneHotEncoder, OrdinalEncoder\n",
    "from imblearn.over_sampling import SMOTE\n",
    "from sklearn.compose import ColumnTransformer\n",
    "from sklearn.model_selection import train_test_split\n",
    "import os\n",
    "import warnings\n",
    "warnings.filterwarnings('ignore')\n"
   ]
  },
  {
   "cell_type": "code",
   "execution_count": 2,
   "metadata": {},
   "outputs": [],
   "source": [
    "def remove_file(filename):\n",
    "    try:\n",
    "        os.remove(filename)\n",
    "    except OSError as e:\n",
    "        print(f\"Error removing {filename}: {e}\")"
   ]
  },
  {
   "cell_type": "code",
   "execution_count": 3,
   "metadata": {},
   "outputs": [],
   "source": [
    "def convert_features(input_file):\n",
    "    df = pd.read_csv(input_file)\n",
    "    df['Trade Date (US)'] = pd.to_datetime(df['Trade Date (US)'])\n",
    "    df['Trade Month'] = df['Trade Date (US)'].dt.month\n",
    "    df['Trade Day'] = df['Trade Date (US)'].dt.day\n",
    "    df['Trade Year'] = df['Trade Date (US)'].dt.year\n",
    "    df.drop(columns=['Trade Date (US)'], inplace=True)\n",
    "    df['Underpriced'] = df['Offer To 1st Close'].apply(lambda x: 1 if x < 0 else 0)\n",
    "    df.drop(columns=['Offer To 1st Close'], inplace=True)\n",
    "    return df\n",
    "\n",
    "df_convert_features = convert_features('bloomberg_data.csv')"
   ]
  },
  {
   "cell_type": "code",
   "execution_count": 4,
   "metadata": {},
   "outputs": [],
   "source": [
    "def drop_columns(columns,df):\n",
    "    df = df.drop(columns=columns)\n",
    "    return df\n",
    "\n",
    "df_drop_columns = drop_columns(['Issuer Ticker','Issuer Name','Filing Term Price Range','cusip','Priced Range'],df_convert_features)"
   ]
  },
  {
   "cell_type": "code",
   "execution_count": 5,
   "metadata": {},
   "outputs": [
    {
     "name": "stderr",
     "output_type": "stream",
     "text": [
      "/Users/emanuelaromano/Desktop/aml-group17/venv/lib/python3.11/site-packages/sklearn/preprocessing/_encoders.py:246: UserWarning: Found unknown categories in columns [1, 2] during transform. These unknown categories will be encoded as all zeros\n",
      "  warnings.warn(\n"
     ]
    }
   ],
   "source": [
    "def encoding(df):\n",
    "    X = df.drop(columns=['Underpriced'])\n",
    "    y = df['Underpriced']\n",
    "\n",
    "    X_train, X_test, y_train, y_test = train_test_split(\n",
    "        X, y, test_size=0.2, random_state=42, stratify=y\n",
    "    )\n",
    "\n",
    "    # Fill NaNs in target column\n",
    "    if y_train.isnull().any() or y_test.isnull().any():\n",
    "        mean = y_train.mean()\n",
    "        y_train = y_train.fillna(mean)\n",
    "        y_test = y_test.fillna(mean)\n",
    "\n",
    "    # Fill NaNs in features\n",
    "    for col in X_train.columns:\n",
    "        if X_train[col].dtype == 'object':\n",
    "            mode = X_train[col].mode()[0]\n",
    "            X_train[col] = X_train[col].fillna(mode)\n",
    "            X_test[col] = X_test[col].fillna(mode)\n",
    "        else:\n",
    "            mean = X_train[col].mean()\n",
    "            X_train[col] = X_train[col].fillna(mean)\n",
    "            X_test[col] = X_test[col].fillna(mean)\n",
    "\n",
    "\n",
    "    # Feature groups\n",
    "    oe_column = ['Trade Month', 'Trade Day', 'Trade Year'] \n",
    "    OHE_Column = ['Industry Sector', 'Industry Group', 'Industry Subgroup']\n",
    "    Scaling_Column = [col for col in X.select_dtypes(exclude=['object']).columns if col not in oe_column]\n",
    "\n",
    "    # Encoders and scaler\n",
    "    oe = OrdinalEncoder()\n",
    "    ohe = OneHotEncoder(drop='first', sparse_output=False, handle_unknown='ignore')  # ignore unseen categories\n",
    "    ss = StandardScaler()\n",
    "\n",
    "    # ColumnTransformer\n",
    "    Preprocess_step = ColumnTransformer(transformers=[\n",
    "        ('ohe', ohe, OHE_Column),\n",
    "        ('ss', ss, Scaling_Column),\n",
    "        ('oe', oe, oe_column)\n",
    "    ], remainder='passthrough')\n",
    "\n",
    "    # Fit only on training data\n",
    "    Preprocess_step.fit(X_train)\n",
    "\n",
    "    # Transform both sets\n",
    "    transformed_train = Preprocess_step.transform(X_train)\n",
    "    transformed_test = Preprocess_step.transform(X_test)\n",
    "\n",
    "    # Get new feature names\n",
    "    features = Preprocess_step.get_feature_names_out()\n",
    "\n",
    "    # Create transformed dataframes\n",
    "    df_train = pd.DataFrame(transformed_train, columns=features)\n",
    "    df_test = pd.DataFrame(transformed_test, columns=features)\n",
    "\n",
    "    # Add target back\n",
    "    df_train['Underpriced'] = y_train.reset_index(drop=True)\n",
    "    df_test['Underpriced'] = y_test.reset_index(drop=True)\n",
    "\n",
    "\n",
    "    return df_train, df_test\n",
    "\n",
    "df_train_encoding, df_test_encoding = encoding(df_drop_columns)"
   ]
  },
  {
   "cell_type": "code",
   "execution_count": 6,
   "metadata": {},
   "outputs": [
    {
     "name": "stdout",
     "output_type": "stream",
     "text": [
      "Removed 29 correlated features.\n"
     ]
    }
   ],
   "source": [
    "def show_correlation(df_train_full,df_test_full):\n",
    "    X_train = df_train_full.drop(columns=['Underpriced'])\n",
    "    y_train = df_train_full['Underpriced']\n",
    "\n",
    "    X_test = df_test_full.drop(columns=['Underpriced'])\n",
    "    y_test = df_test_full['Underpriced']\n",
    "\n",
    "    corr_matrix = X_train.corr().abs()\n",
    "    upper = corr_matrix.where(np.triu(np.ones(corr_matrix.shape), k=1).astype(bool))\n",
    "    to_drop = [column for column in upper.columns if any(upper[column] >= 0.9)]\n",
    "\n",
    "    X_reduced = X_train.drop(columns=to_drop)\n",
    "    X_reduced_test = X_test.drop(columns=to_drop)\n",
    "\n",
    "    df_train = pd.concat([X_reduced, y_train.reset_index(drop=True)], axis=1)\n",
    "    df_test = pd.concat([X_reduced_test, y_test.reset_index(drop=True)], axis=1)\n",
    "\n",
    "    print(f\"Removed {len(to_drop)} correlated features.\")\n",
    "    df_test.to_csv('Final_Output_Class_test.csv', index=False)\n",
    "\n",
    "    return df_train, df_test\n",
    "\n",
    "df_train_correlation, df_test_correlation = show_correlation(df_train_encoding, df_test_encoding)"
   ]
  },
  {
   "cell_type": "code",
   "execution_count": 7,
   "metadata": {},
   "outputs": [
    {
     "data": {
      "image/png": "[encoded data removed]",
      "text/plain": [
       "<Figure size 800x800 with 1 Axes>"
      ]
     },
     "metadata": {},
     "output_type": "display_data"
    }
   ],
   "source": [
    "# Load data\n",
    "df = df_train_correlation.copy()\n",
    "\n",
    "# Create pie chart showing class imbalance\n",
    "plt.figure(figsize=(8, 8))\n",
    "underpriced_counts = df['Underpriced'].value_counts()\n",
    "\n",
    "# Define labels and colors\n",
    "labels = ['Underpriced', 'Not Underpriced']\n",
    "colors = ['lightblue', '#212351']\n",
    "\n",
    "# Create pie chart and get the texts and autotexts for customization\n",
    "wedges, texts, autotexts = plt.pie(\n",
    "    underpriced_counts, labels=labels, colors=colors,\n",
    "    autopct='%1.1f%%', textprops={'color': 'black'}\n",
    ")\n",
    "\n",
    "# Change the color of percentage text based on the wedge color\n",
    "for i, autotext in enumerate(autotexts):\n",
    "    if colors[i] == '#212351':\n",
    "        autotext.set_color('white')\n",
    "\n",
    "plt.title('Underpriced vs Not Underpriced')\n",
    "plt.show()\n"
   ]
  },
  {
   "cell_type": "code",
   "execution_count": 8,
   "metadata": {},
   "outputs": [
    {
     "name": "stdout",
     "output_type": "stream",
     "text": [
      "Class distribution:\n",
      "Underpriced\n",
      "0    0.807161\n",
      "1    0.192839\n",
      "Name: proportion, dtype: float64\n",
      "\n",
      "The data is imbalanced. Applying SMOTE...\n",
      "The initial dataset had 3184 rows\n",
      "The resampled dataset has 5140 rows\n",
      "Resampled feature matrix shape: (5140, 387)\n"
     ]
    }
   ],
   "source": [
    "def checkimbalance(df, outfile):\n",
    "    X_train = df.drop(columns=['Underpriced'])\n",
    "    y_train = df['Underpriced']\n",
    "\n",
    "    # Check class distribution\n",
    "    label_count = y_train.value_counts(normalize=True)\n",
    "    print(f\"Class distribution:\\n{label_count}\\n\")\n",
    "\n",
    "    # Check for imbalance\n",
    "    imbalance = abs(label_count[0] - 0.5) > 0.1\n",
    "\n",
    "    if imbalance:\n",
    "        print('The data is imbalanced. Applying SMOTE...')\n",
    "        sampler = SMOTE(random_state=42)\n",
    "        X_resampled, y_resampled = sampler.fit_resample(X_train, y_train)\n",
    "        df_final = pd.concat([X_resampled, y_resampled], axis=1)\n",
    "        df_final.to_csv(outfile, index=False)\n",
    "        print(f'The initial dataset had {y_train.shape[0]} rows')\n",
    "        print(f'The resampled dataset has {y_resampled.shape[0]} rows')\n",
    "        print(f'Resampled feature matrix shape: {X_resampled.shape}')\n",
    "        return df_final\n",
    "    else:\n",
    "        print('The data is balanced. No resampling applied.')\n",
    "        return df\n",
    "\n",
    "df_train_resampled = checkimbalance(df_train_correlation, 'Final_Output_Class_train.csv')"
   ]
  }
 ],
 "metadata": {
  "kernelspec": {
   "display_name": "venv",
   "language": "python",
   "name": "python3"
  },
  "language_info": {
   "codemirror_mode": {
    "name": "ipython",
    "version": 3
   },
   "file_extension": ".py",
   "mimetype": "text/x-python",
   "name": "python",
   "nbconvert_exporter": "python",
   "pygments_lexer": "ipython3",
   "version": "3.11.5"
  }
 },
 "nbformat": 4,
 "nbformat_minor": 2
}
