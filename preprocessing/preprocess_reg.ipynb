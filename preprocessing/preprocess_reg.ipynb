{
 "cells": [
  {
   "cell_type": "code",
   "execution_count": 1,
   "metadata": {},
   "outputs": [],
   "source": [
    "import pandas as pd\n",
    "import numpy as np\n",
    "import matplotlib.pyplot as plt\n",
    "import seaborn as sns\n",
    "from sklearn.preprocessing import StandardScaler, OneHotEncoder, OrdinalEncoder\n",
    "from sklearn.compose import ColumnTransformer\n",
    "from sklearn.model_selection import train_test_split\n",
    "import os\n",
    "import warnings\n",
    "warnings.filterwarnings('ignore')\n"
   ]
  },
  {
   "cell_type": "code",
   "execution_count": 2,
   "metadata": {},
   "outputs": [],
   "source": [
    "def remove_file(filename):\n",
    "    try:\n",
    "        os.remove(filename)\n",
    "    except OSError as e:\n",
    "        print(f\"Error removing {filename}: {e}\")"
   ]
  },
  {
   "cell_type": "code",
   "execution_count": 3,
   "metadata": {},
   "outputs": [],
   "source": [
    "def convert_trade_date(input_file):\n",
    "    df = pd.read_csv(input_file)\n",
    "    df['Trade Date (US)'] = pd.to_datetime(df['Trade Date (US)'])\n",
    "    df['Trade Month'] = df['Trade Date (US)'].dt.month\n",
    "    df['Trade Day'] = df['Trade Date (US)'].dt.day\n",
    "    df['Trade Year'] = df['Trade Date (US)'].dt.year\n",
    "    df.drop(columns=['Trade Date (US)'], inplace=True)\n",
    "    return df\n",
    "\n",
    "df_convert_trade_date = convert_trade_date('bloomberg_data.csv')"
   ]
  },
  {
   "cell_type": "code",
   "execution_count": 4,
   "metadata": {},
   "outputs": [],
   "source": [
    "def drop_columns(columns,df):\n",
    "    df = df.drop(columns=columns)\n",
    "    return df\n",
    "\n",
    "df_drop_columns = drop_columns(['Issuer Ticker','Issuer Name','Filing Term Price Range','cusip','Priced Range'], df_convert_trade_date)"
   ]
  },
  {
   "cell_type": "code",
   "execution_count": 5,
   "metadata": {},
   "outputs": [],
   "source": [
    "def encoding(df):\n",
    "    X = df.drop(columns=['Offer To 1st Close'])\n",
    "    y = df['Offer To 1st Close']\n",
    "\n",
    "    X_train, X_test, y_train, y_test = train_test_split(X, y, test_size=0.2, random_state=42)\n",
    "\n",
    "    if y_train.isnull().any() or y_test.isnull().any():\n",
    "        mean = y_train.mean()\n",
    "        y_train = y_train.fillna(mean)\n",
    "        y_test = y_test.fillna(mean)\n",
    "\n",
    "    for col in X_train.columns:\n",
    "        if X_train[col].dtype == 'object':\n",
    "            mode = X_train[col].mode()[0]\n",
    "            X_train[col] = X_train[col].fillna(mode)\n",
    "            X_test[col] = X_test[col].fillna(mode)\n",
    "        else:\n",
    "            mean = X_train[col].mean()\n",
    "            X_train[col] = X_train[col].fillna(mean)\n",
    "            X_test[col] = X_test[col].fillna(mean)\n",
    "\n",
    "    oe_column = ['Trade Month', 'Trade Day', 'Trade Year'] \n",
    "    OHE_Column = ['Industry Sector', 'Industry Group', 'Industry Subgroup']\n",
    "    Scaling_Column = [col for col in X.select_dtypes(exclude=['object']).columns if col not in oe_column]\n",
    "\n",
    "    oe = OrdinalEncoder()\n",
    "    ohe = OneHotEncoder(drop='first', sparse_output=False, handle_unknown='ignore')\n",
    "    ss = StandardScaler()\n",
    "\n",
    "    Preprocess_step = ColumnTransformer(transformers=[\n",
    "        ('ohe', ohe, OHE_Column),\n",
    "        ('ss', ss, Scaling_Column),\n",
    "        ('oe', oe, oe_column)\n",
    "    ], remainder='passthrough')\n",
    "\n",
    "    Preprocess_step.fit(X_train)\n",
    "    transformed_train = Preprocess_step.transform(X_train)\n",
    "    transformed_test = Preprocess_step.transform(X_test)\n",
    "\n",
    "    features = Preprocess_step.get_feature_names_out(X.columns)\n",
    "\n",
    "    df_train = pd.DataFrame(transformed_train, columns=features)\n",
    "    df_test = pd.DataFrame(transformed_test, columns=features)\n",
    "\n",
    "    df_train['Offer To 1st Close'] = y_train.reset_index(drop=True)\n",
    "    df_test['Offer To 1st Close'] = y_test.reset_index(drop=True)\n",
    "\n",
    "    return df_train, df_test\n",
    "\n",
    "\n",
    "df_train_encoding, df_test_encoding = encoding(df_drop_columns)"
   ]
  },
  {
   "cell_type": "code",
   "execution_count": 6,
   "metadata": {},
   "outputs": [
    {
     "name": "stdout",
     "output_type": "stream",
     "text": [
      "Removed 29 correlated features.\n"
     ]
    }
   ],
   "source": [
    "def show_correlation(df_train_full, df_test_full):\n",
    "    X_train = df_train_full.drop(columns=['Offer To 1st Close'])\n",
    "    y_train = df_train_full['Offer To 1st Close']\n",
    "\n",
    "    X_test = df_test_full.drop(columns=['Offer To 1st Close'])\n",
    "    y_test = df_test_full['Offer To 1st Close']\n",
    "\n",
    "    corr_matrix = X_train.corr().abs()\n",
    "    upper = corr_matrix.where(np.triu(np.ones(corr_matrix.shape), k=1).astype(bool))\n",
    "    to_drop = [column for column in upper.columns if any(upper[column] >= 0.9)]\n",
    "\n",
    "    X_reduced = X_train.drop(columns=to_drop)\n",
    "    X_reduced_test = X_test.drop(columns=to_drop)\n",
    "\n",
    "    df_train = pd.concat([X_reduced, y_train.reset_index(drop=True)], axis=1)\n",
    "    df_test = pd.concat([X_reduced_test, y_test.reset_index(drop=True)], axis=1)\n",
    "\n",
    "    print(f\"Removed {len(to_drop)} correlated features.\")\n",
    "\n",
    "    df_test.to_csv('Final_Output_Reg_test.csv', index=False)\n",
    "\n",
    "    return df_train, df_test\n",
    "\n",
    "df_train_correlation, df_test_correlation = show_correlation(df_train_encoding, df_test_encoding)"
   ]
  },
  {
   "cell_type": "code",
   "execution_count": 7,
   "metadata": {},
   "outputs": [
    {
     "name": "stdout",
     "output_type": "stream",
     "text": [
      "Minimum value:  -100.0\n",
      "Q1:  0.0\n",
      "Median value:  2.299999952\n",
      "Q3:  17.340909482500003\n",
      "Maximum value:  377.777771\n",
      "Mean value:  14.622876481119478\n",
      "Standard deviation:  34.64469537722364\n",
      "There are outliers in the data.\n",
      "Removed outliers.\n",
      "Original count: 3184, New count: 2829\n"
     ]
    }
   ],
   "source": [
    "def remove_outlier(df):\n",
    "    label = df['Offer To 1st Close']\n",
    "    Q1 = label.quantile(0.25)\n",
    "    Q3 = label.quantile(0.75)\n",
    "    IQR = Q3 - Q1\n",
    "    lower_bound = Q1 - 1.5 * IQR\n",
    "    upper_bound = Q3 + 1.5 * IQR\n",
    "\n",
    "    df_filtered = df[(label >= lower_bound) & (label <= upper_bound)]\n",
    "    print(f\"Removed outliers.\")\n",
    "    print(f\"Original count: {len(df)}, New count: {len(df_filtered)}\")\n",
    "    return df_filtered\n",
    "\n",
    "def checkimbalance(df, outfile):\n",
    "    label = df['Offer To 1st Close']\n",
    "\n",
    "    Q1 = label.quantile(0.25)\n",
    "    Q3 = label.quantile(0.75)\n",
    "    IQR = Q3 - Q1\n",
    "    lower_bound = Q1 - 1.5 * IQR\n",
    "    upper_bound = Q3 + 1.5 * IQR\n",
    "\n",
    "    print('Minimum value: ', label.min())\n",
    "    print('Q1: ', Q1)\n",
    "    print('Median value: ', label.median())\n",
    "    print('Q3: ', Q3)\n",
    "    print('Maximum value: ', label.max())\n",
    "    print('Mean value: ', label.mean())\n",
    "    print('Standard deviation: ', label.std())\n",
    "\n",
    "    outliers = (label < lower_bound).any() or (label > upper_bound).any()\n",
    "\n",
    "    if outliers:\n",
    "        print('There are outliers in the data.')\n",
    "        df_filtered = remove_outlier(df)\n",
    "        df_filtered.to_csv(outfile, index=False)\n",
    "        return df_filtered\n",
    "    else:\n",
    "        print('There are no outliers in the data.')\n",
    "        return df\n",
    "\n",
    "df_train_filtered = checkimbalance(df_train_correlation, 'Final_Output_Reg_train.csv')"
   ]
  },
  {
   "cell_type": "code",
   "execution_count": 8,
   "metadata": {},
   "outputs": [
    {
     "data": {
      "image/png": "[encoded data removed]",
      "text/plain": [
       "<Figure size 800x500 with 1 Axes>"
      ]
     },
     "metadata": {},
     "output_type": "display_data"
    }
   ],
   "source": [
    "df = df_train_filtered.copy()\n",
    "\n",
    "plt.figure(figsize=(8, 5))\n",
    "sns.boxplot(df['Offer To 1st Close'], orient='h' , color='lightblue')\n",
    "plt.xlabel('Offer to 1st Close')\n",
    "plt.title('Regression Task: Distribution of Offer to 1st Close')\n",
    "plt.show()"
   ]
  }
 ],
 "metadata": {
  "kernelspec": {
   "display_name": "venv",
   "language": "python",
   "name": "python3"
  },
  "language_info": {
   "codemirror_mode": {
    "name": "ipython",
    "version": 3
   },
   "file_extension": ".py",
   "mimetype": "text/x-python",
   "name": "python",
   "nbconvert_exporter": "python",
   "pygments_lexer": "ipython3",
   "version": "3.11.5"
  }
 },
 "nbformat": 4,
 "nbformat_minor": 2
}
